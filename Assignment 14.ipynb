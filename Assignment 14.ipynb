{
  "nbformat": 4,
  "nbformat_minor": 0,
  "metadata": {
    "colab": {
      "name": "Assignment 14",
      "provenance": [],
      "mount_file_id": "112R2uEzaGt7iKWTLH9SaRw3Rqt5Qxpqa",
      "authorship_tag": "ABX9TyM3B9LHhaTqE4v29ELoVm9W",
      "include_colab_link": true
    },
    "kernelspec": {
      "name": "python3",
      "display_name": "Python 3"
    },
    "language_info": {
      "name": "python"
    }
  },
  "cells": [
    {
      "cell_type": "markdown",
      "metadata": {
        "id": "view-in-github",
        "colab_type": "text"
      },
      "source": [
        "<a href=\"https://colab.research.google.com/github/18K41A0288/NNDL/blob/main/Assignment%2014.ipynb\" target=\"_parent\"><img src=\"https://colab.research.google.com/assets/colab-badge.svg\" alt=\"Open In Colab\"/></a>"
      ]
    },
    {
      "cell_type": "code",
      "metadata": {
        "colab": {
          "base_uri": "https://localhost:8080/",
          "height": 294
        },
        "id": "qi71aaLPZrQg",
        "outputId": "afe74d49-70b4-4cb1-ce4f-e6fb261535e3"
      },
      "source": [
        "import pandas as pd\n",
        "import numpy as np\n",
        "import math\n",
        "from math import *\n",
        "import random\n",
        "import matplotlib.pyplot as plt\n",
        "from random import shuffle\n",
        "from sklearn.preprocessing import minmax_scale\n",
        "from sklearn.model_selection import train_test_split\n",
        "load_data = pd.read_excel(\"/content/drive/MyDrive/Load Data in kW.xlsx\",header = None)\n",
        "load_data.describe()"
      ],
      "execution_count": 13,
      "outputs": [
        {
          "output_type": "execute_result",
          "data": {
            "text/html": [
              "<div>\n",
              "<style scoped>\n",
              "    .dataframe tbody tr th:only-of-type {\n",
              "        vertical-align: middle;\n",
              "    }\n",
              "\n",
              "    .dataframe tbody tr th {\n",
              "        vertical-align: top;\n",
              "    }\n",
              "\n",
              "    .dataframe thead th {\n",
              "        text-align: right;\n",
              "    }\n",
              "</style>\n",
              "<table border=\"1\" class=\"dataframe\">\n",
              "  <thead>\n",
              "    <tr style=\"text-align: right;\">\n",
              "      <th></th>\n",
              "      <th>0</th>\n",
              "    </tr>\n",
              "  </thead>\n",
              "  <tbody>\n",
              "    <tr>\n",
              "      <th>count</th>\n",
              "      <td>2184.000000</td>\n",
              "    </tr>\n",
              "    <tr>\n",
              "      <th>mean</th>\n",
              "      <td>6393.230623</td>\n",
              "    </tr>\n",
              "    <tr>\n",
              "      <th>std</th>\n",
              "      <td>17139.102597</td>\n",
              "    </tr>\n",
              "    <tr>\n",
              "      <th>min</th>\n",
              "      <td>3377.919600</td>\n",
              "    </tr>\n",
              "    <tr>\n",
              "      <th>25%</th>\n",
              "      <td>5258.767680</td>\n",
              "    </tr>\n",
              "    <tr>\n",
              "      <th>50%</th>\n",
              "      <td>5935.910400</td>\n",
              "    </tr>\n",
              "    <tr>\n",
              "      <th>75%</th>\n",
              "      <td>6738.692400</td>\n",
              "    </tr>\n",
              "    <tr>\n",
              "      <th>max</th>\n",
              "      <td>805444.430400</td>\n",
              "    </tr>\n",
              "  </tbody>\n",
              "</table>\n",
              "</div>"
            ],
            "text/plain": [
              "                   0\n",
              "count    2184.000000\n",
              "mean     6393.230623\n",
              "std     17139.102597\n",
              "min      3377.919600\n",
              "25%      5258.767680\n",
              "50%      5935.910400\n",
              "75%      6738.692400\n",
              "max    805444.430400"
            ]
          },
          "metadata": {
            "tags": []
          },
          "execution_count": 13
        }
      ]
    },
    {
      "cell_type": "code",
      "metadata": {
        "colab": {
          "base_uri": "https://localhost:8080/"
        },
        "id": "kwdyK1QKajZ4",
        "outputId": "229fc4ab-a10d-43f0-d1b5-9f86ceef9d4e"
      },
      "source": [
        "load_data.info()"
      ],
      "execution_count": 2,
      "outputs": [
        {
          "output_type": "stream",
          "text": [
            "<class 'pandas.core.frame.DataFrame'>\n",
            "RangeIndex: 2184 entries, 0 to 2183\n",
            "Data columns (total 1 columns):\n",
            " #   Column  Non-Null Count  Dtype  \n",
            "---  ------  --------------  -----  \n",
            " 0   0       2184 non-null   float64\n",
            "dtypes: float64(1)\n",
            "memory usage: 17.2 KB\n"
          ],
          "name": "stdout"
        }
      ]
    },
    {
      "cell_type": "code",
      "metadata": {
        "colab": {
          "base_uri": "https://localhost:8080/"
        },
        "id": "UgEmMOOuanuL",
        "outputId": "ee4d55f2-1eea-4198-e062-cecd96faf2f8"
      },
      "source": [
        "from scipy import stats\n",
        "z = np.abs(stats.zscore(load_data.iloc[:,0]))\n",
        "threshold = 3\n",
        "print(np.where(z > 3))"
      ],
      "execution_count": 3,
      "outputs": [
        {
          "output_type": "stream",
          "text": [
            "(array([929]),)\n"
          ],
          "name": "stdout"
        }
      ]
    },
    {
      "cell_type": "code",
      "metadata": {
        "colab": {
          "base_uri": "https://localhost:8080/"
        },
        "id": "7sf2oRCXbNj7",
        "outputId": "4289082e-cf41-48e2-dfb3-1c8a38ed64cf"
      },
      "source": [
        "load_data.iloc[929,0] = load_data.iloc[928,0]\n",
        "data = minmax_scale(load_data.iloc[:,0])\n",
        "print(data)"
      ],
      "execution_count": 6,
      "outputs": [
        {
          "output_type": "stream",
          "text": [
            "[0.39787738 0.29380046 0.27645431 ... 0.24629825 0.32438447 0.65165045]\n"
          ],
          "name": "stdout"
        }
      ]
    },
    {
      "cell_type": "code",
      "metadata": {
        "colab": {
          "base_uri": "https://localhost:8080/",
          "height": 421
        },
        "id": "E4D2HpBjbNnV",
        "outputId": "26a09464-ece7-42e1-898e-5d5531389a45"
      },
      "source": [
        "x = []\n",
        "y = []\n",
        "for i in range(1,len(data)-24):\n",
        "  temp = [data[i],data[i+23]]\n",
        "  x.append(temp)\n",
        "  y.append(data[i+24])\n",
        "\n",
        "x = np.array(x)\n",
        "y = np.array(y)\n",
        "print(x)\n",
        "print(y)\n",
        "plt.scatter(x[:,[1]],y)"
      ],
      "execution_count": 9,
      "outputs": [
        {
          "output_type": "stream",
          "text": [
            "[[0.29380046 0.28430002]\n",
            " [0.27645431 0.25579869]\n",
            " [0.31023366 0.24450087]\n",
            " ...\n",
            " [0.68414596 0.21779692]\n",
            " [0.51467861 0.24629825]\n",
            " [0.41730621 0.32438447]]\n",
            "[0.25579869 0.24450087 0.23996462 ... 0.24629825 0.32438447 0.65165045]\n"
          ],
          "name": "stdout"
        },
        {
          "output_type": "execute_result",
          "data": {
            "text/plain": [
              "<matplotlib.collections.PathCollection at 0x7f7592869810>"
            ]
          },
          "metadata": {
            "tags": []
          },
          "execution_count": 9
        },
        {
          "output_type": "display_data",
          "data": {
            "image/png": "[encoded data removed]",
            "text/plain": [
              "<Figure size 432x288 with 1 Axes>"
            ]
          },
          "metadata": {
            "tags": [],
            "needs_background": "light"
          }
        }
      ]
    },
    {
      "cell_type": "code",
      "metadata": {
        "colab": {
          "base_uri": "https://localhost:8080/"
        },
        "id": "ZfVTlq7VbiAH",
        "outputId": "48e9966d-dfa6-416f-fe58-ed3dc72ae04d"
      },
      "source": [
        "x_train,x_test,y_train,y_test = train_test_split(x,y,test_size=0.2)\n",
        "print(len(x_train))\n",
        "print(len(y_train))\n",
        "print(len(x_test))\n",
        "print(len(y_test))"
      ],
      "execution_count": 11,
      "outputs": [
        {
          "output_type": "stream",
          "text": [
            "1727\n",
            "1727\n",
            "432\n",
            "432\n"
          ],
          "name": "stdout"
        }
      ]
    },
    {
      "cell_type": "code",
      "metadata": {
        "colab": {
          "base_uri": "https://localhost:8080/"
        },
        "id": "_-sIWmTmb0KF",
        "outputId": "e6e3241a-0d71-402c-fa03-cffa446dd06f"
      },
      "source": [
        "def gradientm0(y,x0,x1,m0,m1,c):\n",
        "    return -1*(y-m0*x0-m1*x1-c)*x0\n",
        "\n",
        "def gradientm1(y,x0,x1,m0,m1,c):\n",
        "    return -1*(y-m0*x0-m1*x1-c)*x1\n",
        "\n",
        "def gradientc(y,x0,x1,m0,m1,c):\n",
        "    return -1*(y-m0*x0-m1*x1-c)\n",
        "\n",
        "def error(x,y,m0,m1,c):\n",
        "  number_of_samples = len(x)\n",
        "  sum = 0\n",
        "  for i in range(number_of_samples):\n",
        "    sum = sum + math.pow((y[[i]][0] - m0*x[[i][0]][0] - m1*x[[i][0]][1] - c), 2)\n",
        "  error_value = 1*0.5*(1/number_of_samples)*sum\n",
        "  return error_value\n",
        "\n",
        "learning_rate = 0.01\n",
        "epochs = 50\n",
        "\n",
        "m0 = 1\n",
        "m1 = 1\n",
        "c = 1\n",
        "\n",
        "Gm0 = 0\n",
        "Gm1 = 0\n",
        "Gc = 0\n",
        "e = pow(10,-6)\n",
        "number_of_samples = len(x_train)\n",
        "error_list = []\n",
        "\n",
        "for i in range(epochs):\n",
        "    for j in range(number_of_samples):\n",
        "        gradient_m0 = gradientm0(y_train[[j]][0],x_train[[j][0]][0],x_train[[i][0]][1],m0,m1,c)\n",
        "        gradient_m1 = gradientm1(y_train[[j]][0],x_train[[j][0]][0],x_train[[i][0]][1],m0,m1,c)\n",
        "        gradient_c = gradientc(y_train[[j]][0],x_train[[j][0]][0],x_train[[i][0]][1],m0,m1,c)\n",
        "\n",
        "        Gm0 = Gm0 + gradient_m0**2\n",
        "        Gm1 = Gm1 + gradient_m1**2\n",
        "        Gc = Gc + gradient_c**2\n",
        "\n",
        "        learning_rate_m0 = learning_rate/sqrt(Gm0+e)\n",
        "        learning_rate_m1 = learning_rate/sqrt(Gm1+e)\n",
        "        learning_rate_c = learning_rate/sqrt(Gc+e)\n",
        "        \n",
        "        deltam0 = -1*learning_rate_m0*gradient_m0\n",
        "        deltam1 = -1*learning_rate_m1*gradient_m1\n",
        "        deltac = -1*learning_rate_c*gradient_c\n",
        "        \n",
        "        m0 = m0 + deltam0\n",
        "        m1 = m1 + deltam1\n",
        "        c = c + deltac\n",
        "    err = error(x,y,m0,m1,c)\n",
        "    print(err)\n",
        "    error_list.append(err)"
      ],
      "execution_count": 14,
      "outputs": [
        {
          "output_type": "stream",
          "text": [
            "0.05661553811392044\n",
            "0.03399419024767809\n",
            "0.01598145633225088\n",
            "0.00788887358189528\n",
            "0.00802388537082959\n",
            "0.007799743124849797\n",
            "0.00861287610118063\n",
            "0.00787955571807644\n",
            "0.007746468573142028\n",
            "0.00806140267721532\n",
            "0.007770859690990862\n",
            "0.00790502316863731\n",
            "0.007740866113994385\n",
            "0.00892086863146206\n",
            "0.008559285888016004\n",
            "0.007843751482821027\n",
            "0.008475887226884948\n",
            "0.008136087779234762\n",
            "0.00796743859485896\n",
            "0.008188941445276151\n",
            "0.00795649003267356\n",
            "0.00855709736180949\n",
            "0.00814968896270643\n",
            "0.007978711773902974\n",
            "0.007965634786796464\n",
            "0.007957636358856116\n",
            "0.008127106325801142\n",
            "0.008243006054689299\n",
            "0.008025917206883622\n",
            "0.008369071092499967\n",
            "0.00812341064025224\n",
            "0.008081854750133377\n",
            "0.008132614748170695\n",
            "0.008121301796909652\n",
            "0.008090294992277362\n",
            "0.008151051544100191\n",
            "0.008118768276679483\n",
            "0.008138617710681707\n",
            "0.008216749288842055\n",
            "0.008145749741840257\n",
            "0.00826688834537695\n",
            "0.008177985409009027\n",
            "0.008204148196389564\n",
            "0.008246188436165895\n",
            "0.008229371914090981\n",
            "0.008224889091673926\n",
            "0.008225018939550239\n",
            "0.008227620445124852\n",
            "0.008228996818579378\n",
            "0.008277408029597769\n"
          ],
          "name": "stdout"
        }
      ]
    },
    {
      "cell_type": "code",
      "metadata": {
        "colab": {
          "base_uri": "https://localhost:8080/",
          "height": 330
        },
        "id": "rsrNbCV-cIlP",
        "outputId": "b798583b-0bd2-4c39-9b79-9b58d317915c"
      },
      "source": [
        "x1 = range(epochs)\n",
        "y1 = error_list\n",
        "print(\"m0 = \",m0,\", m1 = \",m1,\" and c = \",c)\n",
        "\n",
        "plt.plot(x1,y1)\n",
        "plt.xlabel(\"number of iterations\")\n",
        "plt.ylabel(\"error\")\n",
        "plt.title(\"error graph in case of SGD with AdaGrad\")"
      ],
      "execution_count": 18,
      "outputs": [
        {
          "output_type": "stream",
          "text": [
            "m0 =  0.6149386055382344 , m1 =  0.05685977071431237  and c =  0.17496844266539352\n"
          ],
          "name": "stdout"
        },
        {
          "output_type": "execute_result",
          "data": {
            "text/plain": [
              "Text(0.5, 1.0, 'error graph in case of SGD with AdaGrad')"
            ]
          },
          "metadata": {
            "tags": []
          },
          "execution_count": 18
        },
        {
          "output_type": "display_data",
          "data": {
            "image/png": "[encoded data removed]",
            "text/plain": [
              "<Figure size 432x288 with 1 Axes>"
            ]
          },
          "metadata": {
            "tags": [],
            "needs_background": "light"
          }
        }
      ]
    },
    {
      "cell_type": "code",
      "metadata": {
        "colab": {
          "base_uri": "https://localhost:8080/"
        },
        "id": "ipBuOlL2cRDn",
        "outputId": "fe1edc7b-01ba-4f82-c019-c4bc46533bd1"
      },
      "source": [
        "train_error = error(x_train,y_train,m0,m1,c)\n",
        "test_error = error(x_test,y_test,m0,m1,c)\n",
        "\n",
        "print(\"train error : \",train_error)\n",
        "print(\"test error : \",test_error)"
      ],
      "execution_count": 19,
      "outputs": [
        {
          "output_type": "stream",
          "text": [
            "train error :  0.008254053851420761\n",
            "test error :  0.008370770681708212\n"
          ],
          "name": "stdout"
        }
      ]
    },
    {
      "cell_type": "code",
      "metadata": {
        "colab": {
          "base_uri": "https://localhost:8080/"
        },
        "id": "Im0z8idVcRGg",
        "outputId": "ff05d252-4181-4689-87ab-6e43e147ff09"
      },
      "source": [
        "\n",
        "input_load0 = float(input(\"enter yesterday load at this time : \"))\n",
        "input_load1 = float(input(\"enter load at previous hour : \"))\n",
        "\n",
        "max_value = 8841.669480\n",
        "min_value = 3377.919600\n",
        "\n",
        "input_load0 = (input_load0 - min_value)/(max_value-min_value)\n",
        "input_load1 = (input_load1 - min_value)/(max_value-min_value)\n",
        "output_load = input_load0*m0 + input_load1*m0 + c\n",
        "\n",
        "output_load = output_load*(max_value-min_value)+min_value\n",
        "\n",
        "print(\"predicted load for this hour is : \",output_load)"
      ],
      "execution_count": 20,
      "outputs": [
        {
          "output_type": "stream",
          "text": [
            "enter yesterday load at this time : 3000\n",
            "enter load at previous hour : 2900\n",
            "predicted load for this hour is :  3807.614843403873\n"
          ],
          "name": "stdout"
        }
      ]
    }
  ]
}